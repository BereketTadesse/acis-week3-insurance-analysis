{
 "cells": [
  {
   "cell_type": "code",
   "execution_count": 9,
   "id": "956959ff-897e-4de3-9bcf-6b4b81b7d2f7",
   "metadata": {},
   "outputs": [],
   "source": [
    "import pandas as pd\n",
    "\n",
    "\n",
    "df = pd.read_csv('C:\\\\Users\\\\Dar Computers\\\\Desktop\\\\10Acadamy\\\\week 3\\\\code\\\\acis-week3-insurance-analysis\\\\data\\\\processed\\\\insurance_cleanedd.csv')\n"
   ]
  },
  {
   "cell_type": "code",
   "execution_count": 13,
   "id": "8fc4b51a-3ef0-41ce-a99d-c221ef704643",
   "metadata": {},
   "outputs": [],
   "source": [
    "import numpy as np\n",
    "df['ClaimOccurred'] = df['TotalClaims'] > 0\n",
    "df['ClaimFrequency'] = df['ClaimOccurred'].astype(int)\n",
    "df['ClaimSeverity'] = df['TotalClaims'] / df['ClaimFrequency'].replace(0, np.nan)\n",
    "df['Margin'] = df['TotalPremium'] - df['TotalClaims']\n"
   ]
  },
  {
   "cell_type": "code",
   "execution_count": 15,
   "id": "061ed287-ddcd-410c-b67b-650d790d7ca4",
   "metadata": {},
   "outputs": [
    {
     "name": "stdout",
     "output_type": "stream",
     "text": [
      "Claim Frequency - Provinces: p=2.8046511194894357e-20\n"
     ]
    }
   ],
   "source": [
    "import scipy.stats as stats\n",
    "\n",
    "province_groups = df.groupby('Province')['ClaimFrequency']\n",
    "stat, p = stats.f_oneway(*[group for name, group in province_groups])\n",
    "print(f\"Claim Frequency - Provinces: p={p}\")\n"
   ]
  },
  {
   "cell_type": "code",
   "execution_count": 21,
   "id": "945f0897-5214-496f-a0e3-3c01d50857fe",
   "metadata": {},
   "outputs": [
    {
     "name": "stdout",
     "output_type": "stream",
     "text": [
      "Claim Frequency - PostalCode: p=2.325860275130524e-34\n"
     ]
    }
   ],
   "source": [
    "zipcode_groups = df.groupby('PostalCode')['ClaimFrequency']\n",
    "stat, p = stats.f_oneway(*[group for name, group in zipcode_groups if len(group) > 10])\n",
    "print(f\"Claim Frequency - PostalCode: p={p}\")\n"
   ]
  },
  {
   "cell_type": "code",
   "execution_count": 23,
   "id": "c73ce6e1-2718-442c-9f8b-5960bee970b2",
   "metadata": {},
   "outputs": [
    {
     "name": "stdout",
     "output_type": "stream",
     "text": [
      "Margin - PostalCode: p=0.9626287828864589\n"
     ]
    }
   ],
   "source": [
    "zipcode_margin = df.groupby('PostalCode')['Margin']\n",
    "stat, p = stats.f_oneway(*[group for name, group in zipcode_margin if len(group) > 10])\n",
    "print(f\"Margin - PostalCode: p={p}\")\n"
   ]
  },
  {
   "cell_type": "code",
   "execution_count": 27,
   "id": "e1056c74-645e-4b2a-8210-eb1d9fe76055",
   "metadata": {},
   "outputs": [
    {
     "name": "stdout",
     "output_type": "stream",
     "text": [
      "Claim Frequency - Gender: t=0.2055, p=0.8372\n"
     ]
    }
   ],
   "source": [
    "# Filter only Male and Female to be safe\n",
    "filtered = df[df['Gender'].isin(['Male', 'Female'])]\n",
    "\n",
    "# Group them explicitly\n",
    "male_freq = filtered[filtered['Gender'] == 'Male']['ClaimFrequency']\n",
    "female_freq = filtered[filtered['Gender'] == 'Female']['ClaimFrequency']\n",
    "\n",
    "stat, p = stats.ttest_ind(male_freq, female_freq, equal_var=False, nan_policy='omit')\n",
    "\n",
    "print(f\"Claim Frequency - Gender: t={stat:.4f}, p={p:.4f}\")\n"
   ]
  },
  {
   "cell_type": "markdown",
   "id": "3a8f0eeb-7fb8-4545-a122-4ff7cec069ca",
   "metadata": {},
   "source": [
    "## Analysis and Reporting\r\n",
    "\r\n",
    "Below is the interpretation of the statistical test results for each hypothesis:\r\n",
    "\r\n",
    "| Hypothesis | p-value | Decision | Interpretation |\r\n",
    "|-----------|---------|----------|----------------|\r\n",
    "| **H₀: There are no risk differences across provinces** | `2.80e-20` | **Reject H₀** ✅ | There is a statistically significant difference in claim frequency across provinces. Some provinces pose higher insurance risks and should be considered for regional pricing adjustments. |\r\n",
    "| **H₀: There are no risk differences between zip codes** | `2.33e-34` | **Reject H₀** ✅ | Risk levels vary significantly across postal codes. This supports a more granular segmentation strategy based on zip code. |\r\n",
    "| **H₀: There is no significant margin (profit) difference between zip codes** | `0.96` | **Fail to Reject H₀** ❌ | There is no statistically significant difference in profit margin across zip codes. Margin does not vary enough geographically to justify changes in pricing or strategy. |\r\n",
    "| **H₀: There is no significant risk difference between Women and Men** | `0.8372` | **Fail to Reject H₀** ❌ | Claim frequency is statistically similar between genders. Gender-based pricing is not supported by the data and may not be legally or ethically appropriate. |\r\n",
    "\r\n",
    "### 📌 Business Recommendations\r\n",
    "\r\n",
    "- **Regional Risk-Based Pricing**: Provinces and postal codes should be used as key variables in pricing models due to their significant influence on claim frequency.\r\n",
    "- **Avoid Gender-Based Pricing**: Gender does not significantly influence risk in this dataset and should not be used for segmentation.\r\n",
    "- **Postal Code Profitability**: Although claim frequency varies by zip code, margin does not — pricing should focus on risk rather than profit variations by location.\r\n"
   ]
  },
  {
   "cell_type": "code",
   "execution_count": null,
   "id": "44bb57af-9581-4ce1-903c-99388d529bc9",
   "metadata": {},
   "outputs": [],
   "source": []
  }
 ],
 "metadata": {
  "kernelspec": {
   "display_name": "Python 3 (ipykernel)",
   "language": "python",
   "name": "python3"
  },
  "language_info": {
   "codemirror_mode": {
    "name": "ipython",
    "version": 3
   },
   "file_extension": ".py",
   "mimetype": "text/x-python",
   "name": "python",
   "nbconvert_exporter": "python",
   "pygments_lexer": "ipython3",
   "version": "3.12.4"
  }
 },
 "nbformat": 4,
 "nbformat_minor": 5
}
